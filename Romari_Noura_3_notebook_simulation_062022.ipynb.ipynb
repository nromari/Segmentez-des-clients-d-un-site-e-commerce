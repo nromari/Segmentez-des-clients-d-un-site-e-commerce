{
 "cells": [
  {
   "cell_type": "markdown",
   "id": "f87cdc1f",
   "metadata": {},
   "source": [
    "# P4 : Segmenter les clients d'un e-commerce : stabilité du modèle"
   ]
  },
  {
   "cell_type": "markdown",
   "id": "738730b0",
   "metadata": {},
   "source": [
    "## Sommaire\n",
    "\n",
    "* [Importation et format des données](#chapter1)\n",
    "* [Pèriodicité de réentraînement du modèle](#chapter2)\n",
    "    * [Création du dataframe](#section_2_1)\n",
    "    * [Création des fonctions de segmentation](#section_2_2)\n",
    "    * [Entraînement du modèle kmeans sur les 6 1ers mois de données](#section_2_3)\n",
    "    * [Segmentations par modèle entraîné sur les 6 1ers mois](#section_2_4)\n",
    "    * [Segmentation par modèle entraîné glissant](#section_2_5)\n",
    "    * [Calcul du ARI score](#section_2_6)"
   ]
  },
  {
   "cell_type": "code",
   "execution_count": 1,
   "id": "8e4dc1a7",
   "metadata": {},
   "outputs": [],
   "source": [
    "import numpy as np\n",
    "import pandas as pd\n",
    "from collections import Counter as count\n",
    "from datetime import datetime, timedelta\n",
    "from sklearn.preprocessing import LabelEncoder, OneHotEncoder\n",
    "import seaborn as sns\n",
    "import matplotlib.pyplot as plt\n",
    "import scipy.stats as st\n",
    "from sklearn.preprocessing import StandardScaler\n",
    "from sklearn import decomposition\n",
    "from functions import *\n",
    "import statistics\n",
    "from sklearn.metrics import adjusted_rand_score\n",
    "from yellowbrick.cluster import KElbowVisualizer\n",
    "from sklearn.cluster import KMeans\n",
    "from sklearn.datasets import make_blobs"
   ]
  },
  {
   "cell_type": "markdown",
   "id": "e9fab14d",
   "metadata": {},
   "source": [
    "## Importation et format des données <a class=\"anchor\" id=\"chapter1\"></a>"
   ]
  },
  {
   "cell_type": "code",
   "execution_count": 2,
   "id": "c56949f4",
   "metadata": {},
   "outputs": [],
   "source": [
    "data = pd.read_csv(\"data.csv\", index_col=\"customer_unique_id\")"
   ]
  },
  {
   "cell_type": "code",
   "execution_count": 3,
   "id": "52b30112",
   "metadata": {},
   "outputs": [
    {
     "data": {
      "text/plain": [
       "(91492, 13)"
      ]
     },
     "execution_count": 3,
     "metadata": {},
     "output_type": "execute_result"
    }
   ],
   "source": [
    "data.shape"
   ]
  },
  {
   "cell_type": "code",
   "execution_count": 4,
   "id": "ef453dc1",
   "metadata": {},
   "outputs": [
    {
     "data": {
      "text/html": [
       "<div>\n",
       "<style scoped>\n",
       "    .dataframe tbody tr th:only-of-type {\n",
       "        vertical-align: middle;\n",
       "    }\n",
       "\n",
       "    .dataframe tbody tr th {\n",
       "        vertical-align: top;\n",
       "    }\n",
       "\n",
       "    .dataframe thead th {\n",
       "        text-align: right;\n",
       "    }\n",
       "</style>\n",
       "<table border=\"1\" class=\"dataframe\">\n",
       "  <thead>\n",
       "    <tr style=\"text-align: right;\">\n",
       "      <th></th>\n",
       "      <th>nb_customer_id</th>\n",
       "      <th>nb_orders</th>\n",
       "      <th>mean_order_price</th>\n",
       "      <th>review_score_mean</th>\n",
       "      <th>freq_review_comment</th>\n",
       "      <th>freq_payment_type</th>\n",
       "      <th>payment_seq_mean</th>\n",
       "      <th>product_description_details_mean</th>\n",
       "      <th>order_item_id_mean</th>\n",
       "      <th>taux_livrs_mean</th>\n",
       "      <th>react_review_mean</th>\n",
       "      <th>shipping_day_nb_mean</th>\n",
       "      <th>freq_local_seller</th>\n",
       "    </tr>\n",
       "    <tr>\n",
       "      <th>customer_unique_id</th>\n",
       "      <th></th>\n",
       "      <th></th>\n",
       "      <th></th>\n",
       "      <th></th>\n",
       "      <th></th>\n",
       "      <th></th>\n",
       "      <th></th>\n",
       "      <th></th>\n",
       "      <th></th>\n",
       "      <th></th>\n",
       "      <th></th>\n",
       "      <th></th>\n",
       "      <th></th>\n",
       "    </tr>\n",
       "  </thead>\n",
       "  <tbody>\n",
       "    <tr>\n",
       "      <th>0000366f3b9a7992bf8c76cfdf3221e2</th>\n",
       "      <td>1</td>\n",
       "      <td>1.0</td>\n",
       "      <td>129.90</td>\n",
       "      <td>5.0</td>\n",
       "      <td>Complet message</td>\n",
       "      <td>credit_card</td>\n",
       "      <td>8.0</td>\n",
       "      <td>141.60</td>\n",
       "      <td>1.0</td>\n",
       "      <td>9.0</td>\n",
       "      <td>1.0</td>\n",
       "      <td>5.0</td>\n",
       "      <td>Yes</td>\n",
       "    </tr>\n",
       "    <tr>\n",
       "      <th>0000b849f77a49e4a4ce2b2a4ca5be3f</th>\n",
       "      <td>1</td>\n",
       "      <td>1.0</td>\n",
       "      <td>18.90</td>\n",
       "      <td>4.0</td>\n",
       "      <td>No message</td>\n",
       "      <td>credit_card</td>\n",
       "      <td>1.0</td>\n",
       "      <td>355.60</td>\n",
       "      <td>1.0</td>\n",
       "      <td>44.0</td>\n",
       "      <td>1.0</td>\n",
       "      <td>4.0</td>\n",
       "      <td>Yes</td>\n",
       "    </tr>\n",
       "    <tr>\n",
       "      <th>0000f46a3911fa3c0805444483337064</th>\n",
       "      <td>1</td>\n",
       "      <td>1.0</td>\n",
       "      <td>69.00</td>\n",
       "      <td>3.0</td>\n",
       "      <td>No message</td>\n",
       "      <td>credit_card</td>\n",
       "      <td>8.0</td>\n",
       "      <td>260.19</td>\n",
       "      <td>1.0</td>\n",
       "      <td>25.0</td>\n",
       "      <td>1.0</td>\n",
       "      <td>5.0</td>\n",
       "      <td>No</td>\n",
       "    </tr>\n",
       "    <tr>\n",
       "      <th>0000f6ccb0745a6a4b88665a16c9f078</th>\n",
       "      <td>1</td>\n",
       "      <td>1.0</td>\n",
       "      <td>25.99</td>\n",
       "      <td>4.0</td>\n",
       "      <td>Message</td>\n",
       "      <td>credit_card</td>\n",
       "      <td>4.0</td>\n",
       "      <td>3743.15</td>\n",
       "      <td>1.0</td>\n",
       "      <td>68.0</td>\n",
       "      <td>1.0</td>\n",
       "      <td>6.0</td>\n",
       "      <td>No</td>\n",
       "    </tr>\n",
       "    <tr>\n",
       "      <th>0004aac84e0df4da2b147fca70cf8255</th>\n",
       "      <td>1</td>\n",
       "      <td>1.0</td>\n",
       "      <td>180.00</td>\n",
       "      <td>5.0</td>\n",
       "      <td>No message</td>\n",
       "      <td>credit_card</td>\n",
       "      <td>6.0</td>\n",
       "      <td>1381.56</td>\n",
       "      <td>1.0</td>\n",
       "      <td>9.0</td>\n",
       "      <td>1.0</td>\n",
       "      <td>8.0</td>\n",
       "      <td>Yes</td>\n",
       "    </tr>\n",
       "  </tbody>\n",
       "</table>\n",
       "</div>"
      ],
      "text/plain": [
       "                                  nb_customer_id  nb_orders  mean_order_price  \\\n",
       "customer_unique_id                                                              \n",
       "0000366f3b9a7992bf8c76cfdf3221e2               1        1.0            129.90   \n",
       "0000b849f77a49e4a4ce2b2a4ca5be3f               1        1.0             18.90   \n",
       "0000f46a3911fa3c0805444483337064               1        1.0             69.00   \n",
       "0000f6ccb0745a6a4b88665a16c9f078               1        1.0             25.99   \n",
       "0004aac84e0df4da2b147fca70cf8255               1        1.0            180.00   \n",
       "\n",
       "                                  review_score_mean freq_review_comment  \\\n",
       "customer_unique_id                                                        \n",
       "0000366f3b9a7992bf8c76cfdf3221e2                5.0     Complet message   \n",
       "0000b849f77a49e4a4ce2b2a4ca5be3f                4.0          No message   \n",
       "0000f46a3911fa3c0805444483337064                3.0          No message   \n",
       "0000f6ccb0745a6a4b88665a16c9f078                4.0             Message   \n",
       "0004aac84e0df4da2b147fca70cf8255                5.0          No message   \n",
       "\n",
       "                                 freq_payment_type  payment_seq_mean  \\\n",
       "customer_unique_id                                                     \n",
       "0000366f3b9a7992bf8c76cfdf3221e2       credit_card               8.0   \n",
       "0000b849f77a49e4a4ce2b2a4ca5be3f       credit_card               1.0   \n",
       "0000f46a3911fa3c0805444483337064       credit_card               8.0   \n",
       "0000f6ccb0745a6a4b88665a16c9f078       credit_card               4.0   \n",
       "0004aac84e0df4da2b147fca70cf8255       credit_card               6.0   \n",
       "\n",
       "                                  product_description_details_mean  \\\n",
       "customer_unique_id                                                   \n",
       "0000366f3b9a7992bf8c76cfdf3221e2                            141.60   \n",
       "0000b849f77a49e4a4ce2b2a4ca5be3f                            355.60   \n",
       "0000f46a3911fa3c0805444483337064                            260.19   \n",
       "0000f6ccb0745a6a4b88665a16c9f078                           3743.15   \n",
       "0004aac84e0df4da2b147fca70cf8255                           1381.56   \n",
       "\n",
       "                                  order_item_id_mean  taux_livrs_mean  \\\n",
       "customer_unique_id                                                      \n",
       "0000366f3b9a7992bf8c76cfdf3221e2                 1.0              9.0   \n",
       "0000b849f77a49e4a4ce2b2a4ca5be3f                 1.0             44.0   \n",
       "0000f46a3911fa3c0805444483337064                 1.0             25.0   \n",
       "0000f6ccb0745a6a4b88665a16c9f078                 1.0             68.0   \n",
       "0004aac84e0df4da2b147fca70cf8255                 1.0              9.0   \n",
       "\n",
       "                                  react_review_mean  shipping_day_nb_mean  \\\n",
       "customer_unique_id                                                          \n",
       "0000366f3b9a7992bf8c76cfdf3221e2                1.0                   5.0   \n",
       "0000b849f77a49e4a4ce2b2a4ca5be3f                1.0                   4.0   \n",
       "0000f46a3911fa3c0805444483337064                1.0                   5.0   \n",
       "0000f6ccb0745a6a4b88665a16c9f078                1.0                   6.0   \n",
       "0004aac84e0df4da2b147fca70cf8255                1.0                   8.0   \n",
       "\n",
       "                                 freq_local_seller  \n",
       "customer_unique_id                                  \n",
       "0000366f3b9a7992bf8c76cfdf3221e2               Yes  \n",
       "0000b849f77a49e4a4ce2b2a4ca5be3f               Yes  \n",
       "0000f46a3911fa3c0805444483337064                No  \n",
       "0000f6ccb0745a6a4b88665a16c9f078                No  \n",
       "0004aac84e0df4da2b147fca70cf8255               Yes  "
      ]
     },
     "execution_count": 4,
     "metadata": {},
     "output_type": "execute_result"
    }
   ],
   "source": [
    "data.head()"
   ]
  },
  {
   "cell_type": "code",
   "execution_count": 5,
   "id": "957799df",
   "metadata": {},
   "outputs": [
    {
     "name": "stdout",
     "output_type": "stream",
     "text": [
      "<class 'pandas.core.frame.DataFrame'>\n",
      "Index: 91492 entries, 0000366f3b9a7992bf8c76cfdf3221e2 to ffffd2657e2aad2907e67c3e9daecbeb\n",
      "Data columns (total 13 columns):\n",
      " #   Column                            Non-Null Count  Dtype  \n",
      "---  ------                            --------------  -----  \n",
      " 0   nb_customer_id                    91492 non-null  int64  \n",
      " 1   nb_orders                         91492 non-null  float64\n",
      " 2   mean_order_price                  91492 non-null  float64\n",
      " 3   review_score_mean                 91492 non-null  float64\n",
      " 4   freq_review_comment               91492 non-null  object \n",
      " 5   freq_payment_type                 91492 non-null  object \n",
      " 6   payment_seq_mean                  91492 non-null  float64\n",
      " 7   product_description_details_mean  91492 non-null  float64\n",
      " 8   order_item_id_mean                91492 non-null  float64\n",
      " 9   taux_livrs_mean                   91492 non-null  float64\n",
      " 10  react_review_mean                 91492 non-null  float64\n",
      " 11  shipping_day_nb_mean              91492 non-null  float64\n",
      " 12  freq_local_seller                 91492 non-null  object \n",
      "dtypes: float64(9), int64(1), object(3)\n",
      "memory usage: 9.8+ MB\n"
     ]
    }
   ],
   "source": [
    "data.info()"
   ]
  },
  {
   "cell_type": "code",
   "execution_count": 6,
   "id": "619761b6",
   "metadata": {},
   "outputs": [
    {
     "data": {
      "text/html": [
       "<div>\n",
       "<style scoped>\n",
       "    .dataframe tbody tr th:only-of-type {\n",
       "        vertical-align: middle;\n",
       "    }\n",
       "\n",
       "    .dataframe tbody tr th {\n",
       "        vertical-align: top;\n",
       "    }\n",
       "\n",
       "    .dataframe thead th {\n",
       "        text-align: right;\n",
       "    }\n",
       "</style>\n",
       "<table border=\"1\" class=\"dataframe\">\n",
       "  <thead>\n",
       "    <tr style=\"text-align: right;\">\n",
       "      <th></th>\n",
       "      <th>nb_customer_id</th>\n",
       "      <th>nb_orders</th>\n",
       "      <th>mean_order_price</th>\n",
       "      <th>review_score_mean</th>\n",
       "      <th>payment_seq_mean</th>\n",
       "      <th>product_description_details_mean</th>\n",
       "      <th>order_item_id_mean</th>\n",
       "      <th>taux_livrs_mean</th>\n",
       "      <th>react_review_mean</th>\n",
       "      <th>shipping_day_nb_mean</th>\n",
       "    </tr>\n",
       "  </thead>\n",
       "  <tbody>\n",
       "    <tr>\n",
       "      <th>count</th>\n",
       "      <td>91492.000000</td>\n",
       "      <td>91492.000000</td>\n",
       "      <td>91492.000000</td>\n",
       "      <td>91492.000000</td>\n",
       "      <td>91492.000000</td>\n",
       "      <td>91492.000000</td>\n",
       "      <td>91492.000000</td>\n",
       "      <td>91492.000000</td>\n",
       "      <td>91492.000000</td>\n",
       "      <td>91492.000000</td>\n",
       "    </tr>\n",
       "    <tr>\n",
       "      <th>mean</th>\n",
       "      <td>1.036167</td>\n",
       "      <td>1.237540</td>\n",
       "      <td>137.520862</td>\n",
       "      <td>4.154653</td>\n",
       "      <td>2.970932</td>\n",
       "      <td>985.500793</td>\n",
       "      <td>1.070659</td>\n",
       "      <td>30.890630</td>\n",
       "      <td>0.453464</td>\n",
       "      <td>6.637521</td>\n",
       "    </tr>\n",
       "    <tr>\n",
       "      <th>std</th>\n",
       "      <td>0.218633</td>\n",
       "      <td>0.844299</td>\n",
       "      <td>208.615637</td>\n",
       "      <td>1.279189</td>\n",
       "      <td>2.764153</td>\n",
       "      <td>1515.706767</td>\n",
       "      <td>0.265944</td>\n",
       "      <td>31.308329</td>\n",
       "      <td>4.601267</td>\n",
       "      <td>3.658768</td>\n",
       "    </tr>\n",
       "    <tr>\n",
       "      <th>min</th>\n",
       "      <td>1.000000</td>\n",
       "      <td>1.000000</td>\n",
       "      <td>0.850000</td>\n",
       "      <td>1.000000</td>\n",
       "      <td>0.000000</td>\n",
       "      <td>1.720000</td>\n",
       "      <td>1.000000</td>\n",
       "      <td>0.000000</td>\n",
       "      <td>-186.000000</td>\n",
       "      <td>2.000000</td>\n",
       "    </tr>\n",
       "    <tr>\n",
       "      <th>25%</th>\n",
       "      <td>1.000000</td>\n",
       "      <td>1.000000</td>\n",
       "      <td>46.039107</td>\n",
       "      <td>4.000000</td>\n",
       "      <td>1.000000</td>\n",
       "      <td>231.710000</td>\n",
       "      <td>1.000000</td>\n",
       "      <td>13.000000</td>\n",
       "      <td>1.000000</td>\n",
       "      <td>5.000000</td>\n",
       "    </tr>\n",
       "    <tr>\n",
       "      <th>50%</th>\n",
       "      <td>1.000000</td>\n",
       "      <td>1.000000</td>\n",
       "      <td>86.900000</td>\n",
       "      <td>5.000000</td>\n",
       "      <td>2.000000</td>\n",
       "      <td>474.800000</td>\n",
       "      <td>1.000000</td>\n",
       "      <td>23.000000</td>\n",
       "      <td>1.000000</td>\n",
       "      <td>6.000000</td>\n",
       "    </tr>\n",
       "    <tr>\n",
       "      <th>75%</th>\n",
       "      <td>1.000000</td>\n",
       "      <td>1.000000</td>\n",
       "      <td>149.900000</td>\n",
       "      <td>5.000000</td>\n",
       "      <td>4.000000</td>\n",
       "      <td>1094.400000</td>\n",
       "      <td>1.000000</td>\n",
       "      <td>38.000000</td>\n",
       "      <td>1.000000</td>\n",
       "      <td>7.000000</td>\n",
       "    </tr>\n",
       "    <tr>\n",
       "      <th>max</th>\n",
       "      <td>17.000000</td>\n",
       "      <td>75.000000</td>\n",
       "      <td>13440.000000</td>\n",
       "      <td>5.000000</td>\n",
       "      <td>48.000000</td>\n",
       "      <td>29128.680000</td>\n",
       "      <td>11.000000</td>\n",
       "      <td>2145.000000</td>\n",
       "      <td>67.000000</td>\n",
       "      <td>529.000000</td>\n",
       "    </tr>\n",
       "  </tbody>\n",
       "</table>\n",
       "</div>"
      ],
      "text/plain": [
       "       nb_customer_id     nb_orders  mean_order_price  review_score_mean  \\\n",
       "count    91492.000000  91492.000000      91492.000000       91492.000000   \n",
       "mean         1.036167      1.237540        137.520862           4.154653   \n",
       "std          0.218633      0.844299        208.615637           1.279189   \n",
       "min          1.000000      1.000000          0.850000           1.000000   \n",
       "25%          1.000000      1.000000         46.039107           4.000000   \n",
       "50%          1.000000      1.000000         86.900000           5.000000   \n",
       "75%          1.000000      1.000000        149.900000           5.000000   \n",
       "max         17.000000     75.000000      13440.000000           5.000000   \n",
       "\n",
       "       payment_seq_mean  product_description_details_mean  order_item_id_mean  \\\n",
       "count      91492.000000                      91492.000000        91492.000000   \n",
       "mean           2.970932                        985.500793            1.070659   \n",
       "std            2.764153                       1515.706767            0.265944   \n",
       "min            0.000000                          1.720000            1.000000   \n",
       "25%            1.000000                        231.710000            1.000000   \n",
       "50%            2.000000                        474.800000            1.000000   \n",
       "75%            4.000000                       1094.400000            1.000000   \n",
       "max           48.000000                      29128.680000           11.000000   \n",
       "\n",
       "       taux_livrs_mean  react_review_mean  shipping_day_nb_mean  \n",
       "count     91492.000000       91492.000000          91492.000000  \n",
       "mean         30.890630           0.453464              6.637521  \n",
       "std          31.308329           4.601267              3.658768  \n",
       "min           0.000000        -186.000000              2.000000  \n",
       "25%          13.000000           1.000000              5.000000  \n",
       "50%          23.000000           1.000000              6.000000  \n",
       "75%          38.000000           1.000000              7.000000  \n",
       "max        2145.000000          67.000000            529.000000  "
      ]
     },
     "execution_count": 6,
     "metadata": {},
     "output_type": "execute_result"
    }
   ],
   "source": [
    "data.describe()"
   ]
  },
  {
   "cell_type": "code",
   "execution_count": 7,
   "id": "8ae5acaf",
   "metadata": {},
   "outputs": [
    {
     "data": {
      "text/plain": [
       "nb_customer_id                      0.0\n",
       "nb_orders                           0.0\n",
       "mean_order_price                    0.0\n",
       "review_score_mean                   0.0\n",
       "freq_review_comment                 0.0\n",
       "freq_payment_type                   0.0\n",
       "payment_seq_mean                    0.0\n",
       "product_description_details_mean    0.0\n",
       "order_item_id_mean                  0.0\n",
       "taux_livrs_mean                     0.0\n",
       "react_review_mean                   0.0\n",
       "shipping_day_nb_mean                0.0\n",
       "freq_local_seller                   0.0\n",
       "dtype: float64"
      ]
     },
     "execution_count": 7,
     "metadata": {},
     "output_type": "execute_result"
    }
   ],
   "source": [
    "data.isna().mean()"
   ]
  },
  {
   "cell_type": "markdown",
   "id": "5b3c002d",
   "metadata": {},
   "source": [
    "## Pèriodicité de réentraînement du modèle <a class=\"anchor\" id=\"chapter2\"></a>"
   ]
  },
  {
   "cell_type": "markdown",
   "id": "7187befb",
   "metadata": {},
   "source": [
    "### Création du dataframe <a class=\"anchor\" id=\"section_2_1\"></a>"
   ]
  },
  {
   "cell_type": "code",
   "execution_count": 8,
   "id": "f2d672ec",
   "metadata": {},
   "outputs": [
    {
     "name": "stdout",
     "output_type": "stream",
     "text": [
      "<class 'pandas.core.frame.DataFrame'>\n",
      "Index: 91492 entries, 0000366f3b9a7992bf8c76cfdf3221e2 to ffffd2657e2aad2907e67c3e9daecbeb\n",
      "Data columns (total 13 columns):\n",
      " #   Column                            Non-Null Count  Dtype  \n",
      "---  ------                            --------------  -----  \n",
      " 0   nb_customer_id                    91492 non-null  int64  \n",
      " 1   nb_orders                         91492 non-null  float64\n",
      " 2   mean_order_price                  91492 non-null  float64\n",
      " 3   review_score_mean                 91492 non-null  float64\n",
      " 4   freq_review_comment               91492 non-null  object \n",
      " 5   freq_payment_type                 91492 non-null  object \n",
      " 6   payment_seq_mean                  91492 non-null  float64\n",
      " 7   product_description_details_mean  91492 non-null  float64\n",
      " 8   order_item_id_mean                91492 non-null  float64\n",
      " 9   taux_livrs_mean                   91492 non-null  float64\n",
      " 10  react_review_mean                 91492 non-null  float64\n",
      " 11  shipping_day_nb_mean              91492 non-null  float64\n",
      " 12  freq_local_seller                 91492 non-null  object \n",
      "dtypes: float64(9), int64(1), object(3)\n",
      "memory usage: 9.8+ MB\n"
     ]
    }
   ],
   "source": [
    "data.info()"
   ]
  },
  {
   "cell_type": "raw",
   "id": "7b28a20f",
   "metadata": {},
   "source": [
    "Pour l'étude de la pèriodicité, je dois récupérer les dates de commande."
   ]
  },
  {
   "cell_type": "code",
   "execution_count": 9,
   "id": "32f2a225",
   "metadata": {},
   "outputs": [],
   "source": [
    "df_orders = pd.read_csv(\"olist_orders_dataset.csv\")"
   ]
  },
  {
   "cell_type": "code",
   "execution_count": 10,
   "id": "d1746e22",
   "metadata": {},
   "outputs": [],
   "source": [
    "df_customers = pd.read_csv(\"olist_customers_dataset.csv\")"
   ]
  },
  {
   "cell_type": "code",
   "execution_count": 11,
   "id": "eee28da8",
   "metadata": {},
   "outputs": [
    {
     "name": "stdout",
     "output_type": "stream",
     "text": [
      "<class 'pandas.core.frame.DataFrame'>\n",
      "RangeIndex: 99441 entries, 0 to 99440\n",
      "Data columns (total 5 columns):\n",
      " #   Column                    Non-Null Count  Dtype \n",
      "---  ------                    --------------  ----- \n",
      " 0   customer_id               99441 non-null  object\n",
      " 1   customer_unique_id        99441 non-null  object\n",
      " 2   customer_zip_code_prefix  99441 non-null  int64 \n",
      " 3   customer_city             99441 non-null  object\n",
      " 4   customer_state            99441 non-null  object\n",
      "dtypes: int64(1), object(4)\n",
      "memory usage: 3.8+ MB\n"
     ]
    }
   ],
   "source": [
    "df_customers.info()"
   ]
  },
  {
   "cell_type": "code",
   "execution_count": 12,
   "id": "90442d10",
   "metadata": {},
   "outputs": [
    {
     "name": "stdout",
     "output_type": "stream",
     "text": [
      "<class 'pandas.core.frame.DataFrame'>\n",
      "RangeIndex: 99441 entries, 0 to 99440\n",
      "Data columns (total 8 columns):\n",
      " #   Column                         Non-Null Count  Dtype \n",
      "---  ------                         --------------  ----- \n",
      " 0   order_id                       99441 non-null  object\n",
      " 1   customer_id                    99441 non-null  object\n",
      " 2   order_status                   99441 non-null  object\n",
      " 3   order_purchase_timestamp       99441 non-null  object\n",
      " 4   order_approved_at              99281 non-null  object\n",
      " 5   order_delivered_carrier_date   97658 non-null  object\n",
      " 6   order_delivered_customer_date  96476 non-null  object\n",
      " 7   order_estimated_delivery_date  99441 non-null  object\n",
      "dtypes: object(8)\n",
      "memory usage: 6.1+ MB\n"
     ]
    }
   ],
   "source": [
    "df_orders.info()"
   ]
  },
  {
   "cell_type": "code",
   "execution_count": 13,
   "id": "4125942e",
   "metadata": {},
   "outputs": [],
   "source": [
    "order_date = df_orders.merge(\n",
    "    df_customers, how=\"left\", left_on=\"customer_id\", right_on=\"customer_id\"\n",
    ")"
   ]
  },
  {
   "cell_type": "code",
   "execution_count": 14,
   "id": "e253327a",
   "metadata": {},
   "outputs": [
    {
     "name": "stdout",
     "output_type": "stream",
     "text": [
      "<class 'pandas.core.frame.DataFrame'>\n",
      "Int64Index: 99441 entries, 0 to 99440\n",
      "Data columns (total 12 columns):\n",
      " #   Column                         Non-Null Count  Dtype \n",
      "---  ------                         --------------  ----- \n",
      " 0   order_id                       99441 non-null  object\n",
      " 1   customer_id                    99441 non-null  object\n",
      " 2   order_status                   99441 non-null  object\n",
      " 3   order_purchase_timestamp       99441 non-null  object\n",
      " 4   order_approved_at              99281 non-null  object\n",
      " 5   order_delivered_carrier_date   97658 non-null  object\n",
      " 6   order_delivered_customer_date  96476 non-null  object\n",
      " 7   order_estimated_delivery_date  99441 non-null  object\n",
      " 8   customer_unique_id             99441 non-null  object\n",
      " 9   customer_zip_code_prefix       99441 non-null  int64 \n",
      " 10  customer_city                  99441 non-null  object\n",
      " 11  customer_state                 99441 non-null  object\n",
      "dtypes: int64(1), object(11)\n",
      "memory usage: 9.9+ MB\n"
     ]
    }
   ],
   "source": [
    "order_date.info()"
   ]
  },
  {
   "cell_type": "code",
   "execution_count": 15,
   "id": "207016f2",
   "metadata": {},
   "outputs": [
    {
     "data": {
      "text/html": [
       "<div>\n",
       "<style scoped>\n",
       "    .dataframe tbody tr th:only-of-type {\n",
       "        vertical-align: middle;\n",
       "    }\n",
       "\n",
       "    .dataframe tbody tr th {\n",
       "        vertical-align: top;\n",
       "    }\n",
       "\n",
       "    .dataframe thead th {\n",
       "        text-align: right;\n",
       "    }\n",
       "</style>\n",
       "<table border=\"1\" class=\"dataframe\">\n",
       "  <thead>\n",
       "    <tr style=\"text-align: right;\">\n",
       "      <th></th>\n",
       "      <th>order_id</th>\n",
       "      <th>customer_id</th>\n",
       "      <th>order_status</th>\n",
       "      <th>order_purchase_timestamp</th>\n",
       "      <th>order_approved_at</th>\n",
       "      <th>order_delivered_carrier_date</th>\n",
       "      <th>order_delivered_customer_date</th>\n",
       "      <th>order_estimated_delivery_date</th>\n",
       "      <th>customer_unique_id</th>\n",
       "      <th>customer_zip_code_prefix</th>\n",
       "      <th>customer_city</th>\n",
       "      <th>customer_state</th>\n",
       "    </tr>\n",
       "  </thead>\n",
       "  <tbody>\n",
       "    <tr>\n",
       "      <th>0</th>\n",
       "      <td>e481f51cbdc54678b7cc49136f2d6af7</td>\n",
       "      <td>9ef432eb6251297304e76186b10a928d</td>\n",
       "      <td>delivered</td>\n",
       "      <td>2017-10-02 10:56:33</td>\n",
       "      <td>2017-10-02 11:07:15</td>\n",
       "      <td>2017-10-04 19:55:00</td>\n",
       "      <td>2017-10-10 21:25:13</td>\n",
       "      <td>2017-10-18 00:00:00</td>\n",
       "      <td>7c396fd4830fd04220f754e42b4e5bff</td>\n",
       "      <td>3149</td>\n",
       "      <td>sao paulo</td>\n",
       "      <td>SP</td>\n",
       "    </tr>\n",
       "    <tr>\n",
       "      <th>1</th>\n",
       "      <td>53cdb2fc8bc7dce0b6741e2150273451</td>\n",
       "      <td>b0830fb4747a6c6d20dea0b8c802d7ef</td>\n",
       "      <td>delivered</td>\n",
       "      <td>2018-07-24 20:41:37</td>\n",
       "      <td>2018-07-26 03:24:27</td>\n",
       "      <td>2018-07-26 14:31:00</td>\n",
       "      <td>2018-08-07 15:27:45</td>\n",
       "      <td>2018-08-13 00:00:00</td>\n",
       "      <td>af07308b275d755c9edb36a90c618231</td>\n",
       "      <td>47813</td>\n",
       "      <td>barreiras</td>\n",
       "      <td>BA</td>\n",
       "    </tr>\n",
       "    <tr>\n",
       "      <th>2</th>\n",
       "      <td>47770eb9100c2d0c44946d9cf07ec65d</td>\n",
       "      <td>41ce2a54c0b03bf3443c3d931a367089</td>\n",
       "      <td>delivered</td>\n",
       "      <td>2018-08-08 08:38:49</td>\n",
       "      <td>2018-08-08 08:55:23</td>\n",
       "      <td>2018-08-08 13:50:00</td>\n",
       "      <td>2018-08-17 18:06:29</td>\n",
       "      <td>2018-09-04 00:00:00</td>\n",
       "      <td>3a653a41f6f9fc3d2a113cf8398680e8</td>\n",
       "      <td>75265</td>\n",
       "      <td>vianopolis</td>\n",
       "      <td>GO</td>\n",
       "    </tr>\n",
       "    <tr>\n",
       "      <th>3</th>\n",
       "      <td>949d5b44dbf5de918fe9c16f97b45f8a</td>\n",
       "      <td>f88197465ea7920adcdbec7375364d82</td>\n",
       "      <td>delivered</td>\n",
       "      <td>2017-11-18 19:28:06</td>\n",
       "      <td>2017-11-18 19:45:59</td>\n",
       "      <td>2017-11-22 13:39:59</td>\n",
       "      <td>2017-12-02 00:28:42</td>\n",
       "      <td>2017-12-15 00:00:00</td>\n",
       "      <td>7c142cf63193a1473d2e66489a9ae977</td>\n",
       "      <td>59296</td>\n",
       "      <td>sao goncalo do amarante</td>\n",
       "      <td>RN</td>\n",
       "    </tr>\n",
       "    <tr>\n",
       "      <th>4</th>\n",
       "      <td>ad21c59c0840e6cb83a9ceb5573f8159</td>\n",
       "      <td>8ab97904e6daea8866dbdbc4fb7aad2c</td>\n",
       "      <td>delivered</td>\n",
       "      <td>2018-02-13 21:18:39</td>\n",
       "      <td>2018-02-13 22:20:29</td>\n",
       "      <td>2018-02-14 19:46:34</td>\n",
       "      <td>2018-02-16 18:17:02</td>\n",
       "      <td>2018-02-26 00:00:00</td>\n",
       "      <td>72632f0f9dd73dfee390c9b22eb56dd6</td>\n",
       "      <td>9195</td>\n",
       "      <td>santo andre</td>\n",
       "      <td>SP</td>\n",
       "    </tr>\n",
       "  </tbody>\n",
       "</table>\n",
       "</div>"
      ],
      "text/plain": [
       "                           order_id                       customer_id  \\\n",
       "0  e481f51cbdc54678b7cc49136f2d6af7  9ef432eb6251297304e76186b10a928d   \n",
       "1  53cdb2fc8bc7dce0b6741e2150273451  b0830fb4747a6c6d20dea0b8c802d7ef   \n",
       "2  47770eb9100c2d0c44946d9cf07ec65d  41ce2a54c0b03bf3443c3d931a367089   \n",
       "3  949d5b44dbf5de918fe9c16f97b45f8a  f88197465ea7920adcdbec7375364d82   \n",
       "4  ad21c59c0840e6cb83a9ceb5573f8159  8ab97904e6daea8866dbdbc4fb7aad2c   \n",
       "\n",
       "  order_status order_purchase_timestamp    order_approved_at  \\\n",
       "0    delivered      2017-10-02 10:56:33  2017-10-02 11:07:15   \n",
       "1    delivered      2018-07-24 20:41:37  2018-07-26 03:24:27   \n",
       "2    delivered      2018-08-08 08:38:49  2018-08-08 08:55:23   \n",
       "3    delivered      2017-11-18 19:28:06  2017-11-18 19:45:59   \n",
       "4    delivered      2018-02-13 21:18:39  2018-02-13 22:20:29   \n",
       "\n",
       "  order_delivered_carrier_date order_delivered_customer_date  \\\n",
       "0          2017-10-04 19:55:00           2017-10-10 21:25:13   \n",
       "1          2018-07-26 14:31:00           2018-08-07 15:27:45   \n",
       "2          2018-08-08 13:50:00           2018-08-17 18:06:29   \n",
       "3          2017-11-22 13:39:59           2017-12-02 00:28:42   \n",
       "4          2018-02-14 19:46:34           2018-02-16 18:17:02   \n",
       "\n",
       "  order_estimated_delivery_date                customer_unique_id  \\\n",
       "0           2017-10-18 00:00:00  7c396fd4830fd04220f754e42b4e5bff   \n",
       "1           2018-08-13 00:00:00  af07308b275d755c9edb36a90c618231   \n",
       "2           2018-09-04 00:00:00  3a653a41f6f9fc3d2a113cf8398680e8   \n",
       "3           2017-12-15 00:00:00  7c142cf63193a1473d2e66489a9ae977   \n",
       "4           2018-02-26 00:00:00  72632f0f9dd73dfee390c9b22eb56dd6   \n",
       "\n",
       "   customer_zip_code_prefix            customer_city customer_state  \n",
       "0                      3149                sao paulo             SP  \n",
       "1                     47813                barreiras             BA  \n",
       "2                     75265               vianopolis             GO  \n",
       "3                     59296  sao goncalo do amarante             RN  \n",
       "4                      9195              santo andre             SP  "
      ]
     },
     "execution_count": 15,
     "metadata": {},
     "output_type": "execute_result"
    }
   ],
   "source": [
    "order_date.head()"
   ]
  },
  {
   "cell_type": "code",
   "execution_count": 16,
   "id": "9b34b958",
   "metadata": {},
   "outputs": [],
   "source": [
    "order_date = order_date.drop([\"order_id\"], axis=1)"
   ]
  },
  {
   "cell_type": "code",
   "execution_count": 17,
   "id": "e085de6f",
   "metadata": {},
   "outputs": [],
   "source": [
    "order_date = order_date.drop(\n",
    "    [\n",
    "        \"customer_id\",\n",
    "        \"order_status\",\n",
    "        \"order_approved_at\",\n",
    "        \"order_delivered_carrier_date\",\n",
    "        \"order_delivered_customer_date\",\n",
    "        \"order_estimated_delivery_date\",\n",
    "        \"customer_city\",\n",
    "        \"customer_zip_code_prefix\",\n",
    "        \"customer_state\",\n",
    "    ],\n",
    "    axis=1,\n",
    ")"
   ]
  },
  {
   "cell_type": "code",
   "execution_count": 18,
   "id": "60631475",
   "metadata": {},
   "outputs": [
    {
     "name": "stdout",
     "output_type": "stream",
     "text": [
      "<class 'pandas.core.frame.DataFrame'>\n",
      "Int64Index: 99441 entries, 0 to 99440\n",
      "Data columns (total 2 columns):\n",
      " #   Column                    Non-Null Count  Dtype \n",
      "---  ------                    --------------  ----- \n",
      " 0   order_purchase_timestamp  99441 non-null  object\n",
      " 1   customer_unique_id        99441 non-null  object\n",
      "dtypes: object(2)\n",
      "memory usage: 2.3+ MB\n"
     ]
    }
   ],
   "source": [
    "order_date.info()"
   ]
  },
  {
   "cell_type": "code",
   "execution_count": 19,
   "id": "1a1af283",
   "metadata": {},
   "outputs": [],
   "source": [
    "data_date = data.merge(\n",
    "    order_date, how=\"left\", left_on=\"customer_unique_id\", right_on=\"customer_unique_id\"\n",
    ")"
   ]
  },
  {
   "cell_type": "code",
   "execution_count": 20,
   "id": "7e642991",
   "metadata": {},
   "outputs": [
    {
     "name": "stdout",
     "output_type": "stream",
     "text": [
      "<class 'pandas.core.frame.DataFrame'>\n",
      "Int64Index: 94801 entries, 0 to 94800\n",
      "Data columns (total 15 columns):\n",
      " #   Column                            Non-Null Count  Dtype  \n",
      "---  ------                            --------------  -----  \n",
      " 0   customer_unique_id                94801 non-null  object \n",
      " 1   nb_customer_id                    94801 non-null  int64  \n",
      " 2   nb_orders                         94801 non-null  float64\n",
      " 3   mean_order_price                  94801 non-null  float64\n",
      " 4   review_score_mean                 94801 non-null  float64\n",
      " 5   freq_review_comment               94801 non-null  object \n",
      " 6   freq_payment_type                 94801 non-null  object \n",
      " 7   payment_seq_mean                  94801 non-null  float64\n",
      " 8   product_description_details_mean  94801 non-null  float64\n",
      " 9   order_item_id_mean                94801 non-null  float64\n",
      " 10  taux_livrs_mean                   94801 non-null  float64\n",
      " 11  react_review_mean                 94801 non-null  float64\n",
      " 12  shipping_day_nb_mean              94801 non-null  float64\n",
      " 13  freq_local_seller                 94801 non-null  object \n",
      " 14  order_purchase_timestamp          94801 non-null  object \n",
      "dtypes: float64(9), int64(1), object(5)\n",
      "memory usage: 11.6+ MB\n"
     ]
    }
   ],
   "source": [
    "data_date.info()"
   ]
  },
  {
   "cell_type": "code",
   "execution_count": 21,
   "id": "170681b8",
   "metadata": {},
   "outputs": [
    {
     "data": {
      "text/plain": [
       "customer_unique_id                  0.0\n",
       "nb_customer_id                      0.0\n",
       "nb_orders                           0.0\n",
       "mean_order_price                    0.0\n",
       "review_score_mean                   0.0\n",
       "freq_review_comment                 0.0\n",
       "freq_payment_type                   0.0\n",
       "payment_seq_mean                    0.0\n",
       "product_description_details_mean    0.0\n",
       "order_item_id_mean                  0.0\n",
       "taux_livrs_mean                     0.0\n",
       "react_review_mean                   0.0\n",
       "shipping_day_nb_mean                0.0\n",
       "freq_local_seller                   0.0\n",
       "order_purchase_timestamp            0.0\n",
       "dtype: float64"
      ]
     },
     "execution_count": 21,
     "metadata": {},
     "output_type": "execute_result"
    }
   ],
   "source": [
    "data_date.isna().mean()"
   ]
  },
  {
   "cell_type": "raw",
   "id": "2a667672",
   "metadata": {},
   "source": [
    "Pour pouvoir calculer des pèriodes de temps, je transforme le format de 'order_purchase_timestamp'."
   ]
  },
  {
   "cell_type": "code",
   "execution_count": 22,
   "id": "1475d0bd",
   "metadata": {},
   "outputs": [],
   "source": [
    "def select_jour(date: str) -> str:\n",
    "    \"\"\"\n",
    "    Permet de racourcir les dates en format string. Ne conserve que le mois, le jour et l'année.\n",
    "\n",
    "    Parametres\n",
    "    ----------\n",
    "    date : objet string\n",
    "\n",
    "    Returns\n",
    "    -------\n",
    "    date racourcie : objet string\n",
    "    \"\"\"\n",
    "    return date[:10]"
   ]
  },
  {
   "cell_type": "code",
   "execution_count": 23,
   "id": "fb5ea119",
   "metadata": {},
   "outputs": [],
   "source": [
    "def date_format(date: str) -> object :\n",
    "    \"\"\"\n",
    "    Permet de transformer les dates en format string en format datetime64.\n",
    "\n",
    "    Parametres\n",
    "    ----------\n",
    "    date : objet string\n",
    "\n",
    "    Returns\n",
    "    -------\n",
    "    date : objet datetime64\n",
    "    \"\"\"\n",
    "    date_f = datetime.strptime(date, \"%Y-%m-%d\")\n",
    "    return date_f"
   ]
  },
  {
   "cell_type": "code",
   "execution_count": 24,
   "id": "f4e5a766",
   "metadata": {},
   "outputs": [],
   "source": [
    "data_date[\"order_purchase_timestamp\"] = data_date[\"order_purchase_timestamp\"].apply(\n",
    "    select_jour\n",
    ")"
   ]
  },
  {
   "cell_type": "code",
   "execution_count": 25,
   "id": "0073231f",
   "metadata": {},
   "outputs": [],
   "source": [
    "data_date[\"order_purchase_timestamp\"] = data_date.apply(\n",
    "    lambda r: date_format(r[\"order_purchase_timestamp\"]), axis=1\n",
    ")"
   ]
  },
  {
   "cell_type": "code",
   "execution_count": 26,
   "id": "37e95958",
   "metadata": {},
   "outputs": [
    {
     "data": {
      "text/plain": [
       "0   2018-05-10\n",
       "1   2018-05-07\n",
       "2   2017-03-10\n",
       "3   2017-10-12\n",
       "4   2017-11-14\n",
       "Name: order_purchase_timestamp, dtype: datetime64[ns]"
      ]
     },
     "execution_count": 26,
     "metadata": {},
     "output_type": "execute_result"
    }
   ],
   "source": [
    "data_date[\"order_purchase_timestamp\"].head()"
   ]
  },
  {
   "cell_type": "code",
   "execution_count": 27,
   "id": "202c34c2",
   "metadata": {},
   "outputs": [
    {
     "name": "stderr",
     "output_type": "stream",
     "text": [
      "C:\\Users\\n_a_e\\AppData\\Local\\Temp\\ipykernel_14448\\967412676.py:1: FutureWarning: Treating datetime data as categorical rather than numeric in `.describe` is deprecated and will be removed in a future version of pandas. Specify `datetime_is_numeric=True` to silence this warning and adopt the future behavior now.\n",
      "  data_date[\"order_purchase_timestamp\"].describe()\n"
     ]
    },
    {
     "data": {
      "text/plain": [
       "count                   94801\n",
       "unique                    621\n",
       "top       2017-11-24 00:00:00\n",
       "freq                     1133\n",
       "first     2016-10-03 00:00:00\n",
       "last      2018-10-16 00:00:00\n",
       "Name: order_purchase_timestamp, dtype: object"
      ]
     },
     "execution_count": 27,
     "metadata": {},
     "output_type": "execute_result"
    }
   ],
   "source": [
    "data_date[\"order_purchase_timestamp\"].describe()"
   ]
  },
  {
   "cell_type": "raw",
   "id": "8f333a74",
   "metadata": {},
   "source": [
    "Les données s'étendent sur 2 ans. Je transforme les dates en numérique."
   ]
  },
  {
   "cell_type": "code",
   "execution_count": 28,
   "id": "878862f0",
   "metadata": {},
   "outputs": [],
   "source": [
    "data_date[\"order_purchase_timestamp_num\"] = pd.to_numeric(\n",
    "    data_date[\"order_purchase_timestamp\"]\n",
    ")"
   ]
  },
  {
   "cell_type": "code",
   "execution_count": 29,
   "id": "d5fa4a85",
   "metadata": {},
   "outputs": [
    {
     "data": {
      "text/plain": [
       "0    1525910400000000000\n",
       "1    1525651200000000000\n",
       "2    1489104000000000000\n",
       "3    1507766400000000000\n",
       "4    1510617600000000000\n",
       "Name: order_purchase_timestamp_num, dtype: int64"
      ]
     },
     "execution_count": 29,
     "metadata": {},
     "output_type": "execute_result"
    }
   ],
   "source": [
    "data_date[\"order_purchase_timestamp_num\"].head()"
   ]
  },
  {
   "cell_type": "code",
   "execution_count": 30,
   "id": "d8ffb9df",
   "metadata": {},
   "outputs": [],
   "source": [
    "# valeur numéric correspondant à 1 jour nécessaire pour les calculs.\n",
    "day_num = 86400000000000"
   ]
  },
  {
   "cell_type": "markdown",
   "id": "bc6ca35d",
   "metadata": {},
   "source": [
    "### Création des fonctions de segmentation <a class=\"anchor\" id=\"section_2_2\"></a>"
   ]
  },
  {
   "cell_type": "raw",
   "id": "4dce529c",
   "metadata": {},
   "source": [
    "Création de la fonction model_time_predict qui va permettre de segmenter les données sur le modèle entraîné sur les 6 1ers mois (kmeans_6m)."
   ]
  },
  {
   "cell_type": "code",
   "execution_count": 31,
   "id": "10409538",
   "metadata": {},
   "outputs": [],
   "source": [
    "def model_time_predict(max_date: int) -> np.ndarray:\n",
    "    \"\"\"\n",
    "    Segmente les données sur une plage de temps définie, en utilisant un modèle kmeans entraîné sur les 6 1ers mois.\n",
    "\n",
    "    Parametres\n",
    "    ----------\n",
    "    max_date : objet string\n",
    "\n",
    "    Returns\n",
    "    -------\n",
    "    labels : np.ndarray, segmentation des données.\n",
    "    \"\"\"\n",
    "    # Sélection des données correspondant à la plage de temps\n",
    "    data_date_delta = data_date[data_date[\"order_purchase_timestamp_num\"] < max_date]\n",
    "    # Suppression des variables inutiles pour préparation à l'encodage\n",
    "    data_date_delta = data_date_delta.drop(\n",
    "        [\n",
    "            \"order_purchase_timestamp_num\",\n",
    "            \"order_purchase_timestamp\",\n",
    "            \"customer_unique_id\",\n",
    "        ],\n",
    "        axis=1,\n",
    "    )\n",
    "\n",
    "    # Transformation des variables discrètes en integer\n",
    "    data_date_delta[\"review_score_mean\"] = data_date_delta[\"review_score_mean\"].astype(\n",
    "        int\n",
    "    )\n",
    "    data_date_delta[\"order_item_id_mean\"] = data_date_delta[\n",
    "        \"order_item_id_mean\"\n",
    "    ].astype(int)\n",
    "    data_date_delta[\"react_review_mean\"] = data_date_delta[\"react_review_mean\"].astype(\n",
    "        int\n",
    "    )\n",
    "    data_date_delta[\"shipping_day_nb_mean\"] = data_date_delta[\n",
    "        \"shipping_day_nb_mean\"\n",
    "    ].astype(int)\n",
    "    data_date_delta[\"nb_customer_id\"] = data_date_delta[\"nb_customer_id\"].astype(int)\n",
    "\n",
    "    # Encodage et concaténation des variables de catégories\n",
    "    comment = pd.get_dummies(data_date_delta[\"freq_review_comment\"], prefix=\"Comment\")\n",
    "    payment_type = pd.get_dummies(\n",
    "        data_date_delta[\"freq_payment_type\"], prefix=\"Payment\"\n",
    "    )\n",
    "    local_seller = pd.get_dummies(\n",
    "        data_date_delta[\"freq_local_seller\"], prefix=\"loc_seller\"\n",
    "    )\n",
    "\n",
    "    data_date_delta_encod = pd.concat([comment, payment_type, local_seller], axis=1)\n",
    "\n",
    "    # Data frame des variables quantitatives\n",
    "    data_date_delta_qtt = data_date_delta.drop(\n",
    "        [\"freq_review_comment\", \"freq_payment_type\", \"freq_local_seller\"], axis=1\n",
    "    )\n",
    "\n",
    "    # Data frame complet\n",
    "    data_date_delta_all = pd.concat(\n",
    "        [data_date_delta_qtt, data_date_delta_encod], axis=1\n",
    "    )\n",
    "\n",
    "    # Analyse en composante principale pour un seuil à 95% soit pour les 15 premières composantes\n",
    "    X = data_date_delta_all.dropna()\n",
    "    X = StandardScaler().fit_transform(X)\n",
    "    pca = decomposition.PCA(n_components=15)\n",
    "    pca.fit(X)\n",
    "    X = pca.transform(X)\n",
    "\n",
    "    # Segmentation Kmeans entraîné sur les 6 1ers mois avec k=7\n",
    "    model = kmeans_6m\n",
    "    labels = model.predict(X)\n",
    "    return labels"
   ]
  },
  {
   "cell_type": "raw",
   "id": "205a7cda",
   "metadata": {},
   "source": [
    "Création de la fonction model_time qui permet d'entraîner le modèle et de segmenter en glissant sur une plage de temps définie. Cette fonction sera aussi utilisée pour entraîner le modèle sur les 6 1ers mois."
   ]
  },
  {
   "cell_type": "code",
   "execution_count": 32,
   "id": "f2085c4b",
   "metadata": {},
   "outputs": [],
   "source": [
    "def model_time(max_date: int) -> np.ndarray:\n",
    "    \"\"\"\n",
    "    Segmente les données sur une plage de temps définie, en utilisant un modèle kmeans entraîné sur les données actualisées.\n",
    "\n",
    "    Parametres\n",
    "    ----------\n",
    "    max_date : objet string\n",
    "\n",
    "    Returns\n",
    "    -------\n",
    "    labels : np.ndarray, segmentation des données.\n",
    "    kmeans : model entraîné sur données actualisées.\n",
    "    \"\"\"\n",
    "    # Sélection des données correspondant à la plage de temps\n",
    "    data_date_delta = data_date[data_date[\"order_purchase_timestamp_num\"] < max_date]\n",
    "    # Suppression des variables inutiles pour préparation à l'encodage\n",
    "    data_date_delta = data_date_delta.drop(\n",
    "        [\n",
    "            \"order_purchase_timestamp_num\",\n",
    "            \"order_purchase_timestamp\",\n",
    "            \"customer_unique_id\",\n",
    "        ],\n",
    "        axis=1,\n",
    "    )\n",
    "\n",
    "    # Transformation des variables discrètes en integer\n",
    "    data_date_delta[\"review_score_mean\"] = data_date_delta[\"review_score_mean\"].astype(\n",
    "        int\n",
    "    )\n",
    "    data_date_delta[\"order_item_id_mean\"] = data_date_delta[\n",
    "        \"order_item_id_mean\"\n",
    "    ].astype(int)\n",
    "    data_date_delta[\"react_review_mean\"] = data_date_delta[\"react_review_mean\"].astype(\n",
    "        int\n",
    "    )\n",
    "    data_date_delta[\"shipping_day_nb_mean\"] = data_date_delta[\n",
    "        \"shipping_day_nb_mean\"\n",
    "    ].astype(int)\n",
    "    data_date_delta[\"nb_customer_id\"] = data_date_delta[\"nb_customer_id\"].astype(int)\n",
    "\n",
    "    # Encodage et concaténation des variables de catégories\n",
    "    comment = pd.get_dummies(data_date_delta[\"freq_review_comment\"], prefix=\"Comment\")\n",
    "    payment_type = pd.get_dummies(\n",
    "        data_date_delta[\"freq_payment_type\"], prefix=\"Payment\"\n",
    "    )\n",
    "    local_seller = pd.get_dummies(\n",
    "        data_date_delta[\"freq_local_seller\"], prefix=\"loc_seller\"\n",
    "    )\n",
    "\n",
    "    data_date_delta_encod = pd.concat([comment, payment_type, local_seller], axis=1)\n",
    "\n",
    "    # Data frame des variables quantitatives\n",
    "    data_date_delta_qtt = data_date_delta.drop(\n",
    "        [\"freq_review_comment\", \"freq_payment_type\", \"freq_local_seller\"], axis=1\n",
    "    )\n",
    "\n",
    "    # Data frame complet\n",
    "    data_date_delta_all = pd.concat(\n",
    "        [data_date_delta_qtt, data_date_delta_encod], axis=1\n",
    "    )\n",
    "\n",
    "    # Analyse en composante principale pour un seuil à 95% soit pour les 15 premières composantes\n",
    "    X = data_date_delta_all.dropna()\n",
    "    X = StandardScaler().fit_transform(X)\n",
    "    pca = decomposition.PCA(n_components=15)\n",
    "    pca.fit(X)\n",
    "    X = pca.transform(X)\n",
    "\n",
    "    # Segmentation Kmeans avec k=7\n",
    "    model = KMeans(n_clusters=7)\n",
    "    kmeans = model.fit(X)\n",
    "    labels = kmeans.labels_\n",
    "    return labels, kmeans"
   ]
  },
  {
   "cell_type": "markdown",
   "id": "ceb3284b",
   "metadata": {},
   "source": [
    "### Entraînement du modèle kmeans sur les 6 1ers mois de données <a class=\"anchor\" id=\"section_2_3\"></a>"
   ]
  },
  {
   "cell_type": "code",
   "execution_count": 33,
   "id": "dcc85fe0",
   "metadata": {},
   "outputs": [],
   "source": [
    "# Def de la plage de temps\n",
    "nb_mois = 6\n",
    "min_date = min(data_date[\"order_purchase_timestamp_num\"])\n",
    "max_date = min_date + (nb_mois * 30 * day_num)\n",
    "\n",
    "labels_6m, kmeans_6m = model_time(max_date)"
   ]
  },
  {
   "cell_type": "code",
   "execution_count": 34,
   "id": "6083ec69",
   "metadata": {},
   "outputs": [
    {
     "data": {
      "text/plain": [
       "array([5, 5, 5, ..., 2, 5, 5])"
      ]
     },
     "execution_count": 34,
     "metadata": {},
     "output_type": "execute_result"
    }
   ],
   "source": [
    "labels_6m"
   ]
  },
  {
   "cell_type": "code",
   "execution_count": 35,
   "id": "6ea5cf6a",
   "metadata": {},
   "outputs": [
    {
     "data": {
      "text/html": [
       "<style>#sk-container-id-1 {color: black;background-color: white;}#sk-container-id-1 pre{padding: 0;}#sk-container-id-1 div.sk-toggleable {background-color: white;}#sk-container-id-1 label.sk-toggleable__label {cursor: pointer;display: block;width: 100%;margin-bottom: 0;padding: 0.3em;box-sizing: border-box;text-align: center;}#sk-container-id-1 label.sk-toggleable__label-arrow:before {content: \"▸\";float: left;margin-right: 0.25em;color: #696969;}#sk-container-id-1 label.sk-toggleable__label-arrow:hover:before {color: black;}#sk-container-id-1 div.sk-estimator:hover label.sk-toggleable__label-arrow:before {color: black;}#sk-container-id-1 div.sk-toggleable__content {max-height: 0;max-width: 0;overflow: hidden;text-align: left;background-color: #f0f8ff;}#sk-container-id-1 div.sk-toggleable__content pre {margin: 0.2em;color: black;border-radius: 0.25em;background-color: #f0f8ff;}#sk-container-id-1 input.sk-toggleable__control:checked~div.sk-toggleable__content {max-height: 200px;max-width: 100%;overflow: auto;}#sk-container-id-1 input.sk-toggleable__control:checked~label.sk-toggleable__label-arrow:before {content: \"▾\";}#sk-container-id-1 div.sk-estimator input.sk-toggleable__control:checked~label.sk-toggleable__label {background-color: #d4ebff;}#sk-container-id-1 div.sk-label input.sk-toggleable__control:checked~label.sk-toggleable__label {background-color: #d4ebff;}#sk-container-id-1 input.sk-hidden--visually {border: 0;clip: rect(1px 1px 1px 1px);clip: rect(1px, 1px, 1px, 1px);height: 1px;margin: -1px;overflow: hidden;padding: 0;position: absolute;width: 1px;}#sk-container-id-1 div.sk-estimator {font-family: monospace;background-color: #f0f8ff;border: 1px dotted black;border-radius: 0.25em;box-sizing: border-box;margin-bottom: 0.5em;}#sk-container-id-1 div.sk-estimator:hover {background-color: #d4ebff;}#sk-container-id-1 div.sk-parallel-item::after {content: \"\";width: 100%;border-bottom: 1px solid gray;flex-grow: 1;}#sk-container-id-1 div.sk-label:hover label.sk-toggleable__label {background-color: #d4ebff;}#sk-container-id-1 div.sk-serial::before {content: \"\";position: absolute;border-left: 1px solid gray;box-sizing: border-box;top: 0;bottom: 0;left: 50%;z-index: 0;}#sk-container-id-1 div.sk-serial {display: flex;flex-direction: column;align-items: center;background-color: white;padding-right: 0.2em;padding-left: 0.2em;position: relative;}#sk-container-id-1 div.sk-item {position: relative;z-index: 1;}#sk-container-id-1 div.sk-parallel {display: flex;align-items: stretch;justify-content: center;background-color: white;position: relative;}#sk-container-id-1 div.sk-item::before, #sk-container-id-1 div.sk-parallel-item::before {content: \"\";position: absolute;border-left: 1px solid gray;box-sizing: border-box;top: 0;bottom: 0;left: 50%;z-index: -1;}#sk-container-id-1 div.sk-parallel-item {display: flex;flex-direction: column;z-index: 1;position: relative;background-color: white;}#sk-container-id-1 div.sk-parallel-item:first-child::after {align-self: flex-end;width: 50%;}#sk-container-id-1 div.sk-parallel-item:last-child::after {align-self: flex-start;width: 50%;}#sk-container-id-1 div.sk-parallel-item:only-child::after {width: 0;}#sk-container-id-1 div.sk-dashed-wrapped {border: 1px dashed gray;margin: 0 0.4em 0.5em 0.4em;box-sizing: border-box;padding-bottom: 0.4em;background-color: white;}#sk-container-id-1 div.sk-label label {font-family: monospace;font-weight: bold;display: inline-block;line-height: 1.2em;}#sk-container-id-1 div.sk-label-container {text-align: center;}#sk-container-id-1 div.sk-container {/* jupyter's `normalize.less` sets `[hidden] { display: none; }` but bootstrap.min.css set `[hidden] { display: none !important; }` so we also need the `!important` here to be able to override the default hidden behavior on the sphinx rendered scikit-learn.org. See: https://github.com/scikit-learn/scikit-learn/issues/21755 */display: inline-block !important;position: relative;}#sk-container-id-1 div.sk-text-repr-fallback {display: none;}</style><div id=\"sk-container-id-1\" class=\"sk-top-container\"><div class=\"sk-text-repr-fallback\"><pre>KMeans(n_clusters=7)</pre><b>In a Jupyter environment, please rerun this cell to show the HTML representation or trust the notebook. <br />On GitHub, the HTML representation is unable to render, please try loading this page with nbviewer.org.</b></div><div class=\"sk-container\" hidden><div class=\"sk-item\"><div class=\"sk-estimator sk-toggleable\"><input class=\"sk-toggleable__control sk-hidden--visually\" id=\"sk-estimator-id-1\" type=\"checkbox\" checked><label for=\"sk-estimator-id-1\" class=\"sk-toggleable__label sk-toggleable__label-arrow\">KMeans</label><div class=\"sk-toggleable__content\"><pre>KMeans(n_clusters=7)</pre></div></div></div></div></div>"
      ],
      "text/plain": [
       "KMeans(n_clusters=7)"
      ]
     },
     "execution_count": 35,
     "metadata": {},
     "output_type": "execute_result"
    }
   ],
   "source": [
    "kmeans_6m"
   ]
  },
  {
   "cell_type": "markdown",
   "id": "2fde489a",
   "metadata": {},
   "source": [
    "### Segmentations par modèle entraîné sur les 6 1ers mois <a class=\"anchor\" id=\"section_2_4\"></a>"
   ]
  },
  {
   "cell_type": "raw",
   "id": "82ed4a77",
   "metadata": {},
   "source": [
    "J'obtient les segmentations sur modèle entraîné en bouclant la fonction model_time_predict sur toute le jeux de données selon un pas d'1 mois."
   ]
  },
  {
   "cell_type": "code",
   "execution_count": 36,
   "id": "e510b1ce",
   "metadata": {},
   "outputs": [],
   "source": [
    "# Je fixe les paramètres de segmentation\n",
    "\n",
    "min_date = min(data_date[\"order_purchase_timestamp_num\"])\n",
    "\n",
    "nb_mois_list = range(6, 17, 1)\n",
    "\n",
    "max_date_list = []\n",
    "for nb_mois in nb_mois_list:\n",
    "    max_date = min_date + nb_mois * 30 * day_num\n",
    "    max_date_list.append(max_date)\n",
    "\n",
    "# Je créer la variable de stockage des segmentations\n",
    "labels_predict_all = []\n",
    "\n",
    "# Je créé la boucle de segmentation\n",
    "for i in range(len(max_date_list)):\n",
    "    labels_predict = model_time_predict(max_date_list[i])\n",
    "    labels_predict_all.append(labels_predict)"
   ]
  },
  {
   "cell_type": "code",
   "execution_count": 37,
   "id": "c0e83999",
   "metadata": {},
   "outputs": [
    {
     "data": {
      "text/plain": [
       "[array([5, 5, 5, ..., 2, 5, 5]),\n",
       " array([5, 5, 5, ..., 2, 5, 5]),\n",
       " array([5, 5, 5, ..., 0, 5, 5])]"
      ]
     },
     "execution_count": 37,
     "metadata": {},
     "output_type": "execute_result"
    }
   ],
   "source": [
    "labels_predict_all[0:3]"
   ]
  },
  {
   "cell_type": "markdown",
   "id": "3f52863a",
   "metadata": {},
   "source": [
    "### Segmentation par modèle entraîné glissant <a class=\"anchor\" id=\"section_2_5\"></a>"
   ]
  },
  {
   "cell_type": "raw",
   "id": "2f73cc8c",
   "metadata": {},
   "source": [
    "Je procède de la même manière que précédemment mais avec la fonction model_time."
   ]
  },
  {
   "cell_type": "code",
   "execution_count": 38,
   "id": "a6cc714d",
   "metadata": {},
   "outputs": [],
   "source": [
    "# Je fixe les paramètres de segmentation\n",
    "# Je fixe les paramètres de segmentation\n",
    "\n",
    "min_date = min(data_date[\"order_purchase_timestamp_num\"])\n",
    "\n",
    "nb_mois_list = range(6, 17, 1)\n",
    "\n",
    "max_date_list = []\n",
    "for nb_mois in nb_mois_list:\n",
    "    max_date = min_date + nb_mois * 30 * day_num\n",
    "    max_date_list.append(max_date)\n",
    "\n",
    "\n",
    "# Je créer la variable de stockage des segmentations\n",
    "labels_all = []\n",
    "\n",
    "\n",
    "# Je créé la boucle de segmentation\n",
    "for i in range(len(max_date_list)):\n",
    "    labels, kmeans = model_time(max_date_list[i])\n",
    "    labels_all.append(labels)"
   ]
  },
  {
   "cell_type": "code",
   "execution_count": 39,
   "id": "bd386a8d",
   "metadata": {},
   "outputs": [
    {
     "data": {
      "text/plain": [
       "[array([0, 0, 0, ..., 1, 0, 0]),\n",
       " array([0, 0, 0, ..., 5, 0, 0]),\n",
       " array([1, 1, 1, ..., 6, 1, 1])]"
      ]
     },
     "execution_count": 39,
     "metadata": {},
     "output_type": "execute_result"
    }
   ],
   "source": [
    "labels_all[0:3]"
   ]
  },
  {
   "cell_type": "markdown",
   "id": "18dfabc1",
   "metadata": {},
   "source": [
    "### Calcul du ARI score <a class=\"anchor\" id=\"section_2_6\"></a>"
   ]
  },
  {
   "cell_type": "raw",
   "id": "24039f1a",
   "metadata": {},
   "source": [
    "je vérifie les dimensions"
   ]
  },
  {
   "cell_type": "code",
   "execution_count": 40,
   "id": "9b989284",
   "metadata": {},
   "outputs": [
    {
     "data": {
      "text/plain": [
       "11"
      ]
     },
     "execution_count": 40,
     "metadata": {},
     "output_type": "execute_result"
    }
   ],
   "source": [
    "len(labels_predict_all)"
   ]
  },
  {
   "cell_type": "code",
   "execution_count": 41,
   "id": "75a78bf0",
   "metadata": {
    "scrolled": true
   },
   "outputs": [
    {
     "name": "stdout",
     "output_type": "stream",
     "text": [
      "5086\n",
      "7323\n",
      "10668\n",
      "13767\n",
      "17415\n",
      "21344\n",
      "25508\n",
      "29765\n",
      "36105\n",
      "42209\n",
      "48405\n"
     ]
    }
   ],
   "source": [
    "for labels in labels_predict_all:\n",
    "    print(len(labels))"
   ]
  },
  {
   "cell_type": "code",
   "execution_count": 42,
   "id": "8bfe146a",
   "metadata": {},
   "outputs": [
    {
     "data": {
      "text/plain": [
       "11"
      ]
     },
     "execution_count": 42,
     "metadata": {},
     "output_type": "execute_result"
    }
   ],
   "source": [
    "len(labels_all)"
   ]
  },
  {
   "cell_type": "code",
   "execution_count": 43,
   "id": "9147fa04",
   "metadata": {},
   "outputs": [
    {
     "name": "stdout",
     "output_type": "stream",
     "text": [
      "5086\n",
      "7323\n",
      "10668\n",
      "13767\n",
      "17415\n",
      "21344\n",
      "25508\n",
      "29765\n",
      "36105\n",
      "42209\n",
      "48405\n"
     ]
    }
   ],
   "source": [
    "for labels in labels_all:\n",
    "    print(len(labels))"
   ]
  },
  {
   "cell_type": "raw",
   "id": "385f3338",
   "metadata": {},
   "source": [
    "Je boucle pour calculer tous les ARI score"
   ]
  },
  {
   "cell_type": "code",
   "execution_count": 44,
   "id": "4a4ac0b9",
   "metadata": {},
   "outputs": [],
   "source": [
    "ARI_all = []\n",
    "\n",
    "for i in range(len(labels_all)):\n",
    "    ARI = round(adjusted_rand_score(labels_predict_all[i], labels_all[i]), 2)\n",
    "    ARI_all.append(ARI)"
   ]
  },
  {
   "cell_type": "code",
   "execution_count": 45,
   "id": "f722a00b",
   "metadata": {},
   "outputs": [
    {
     "data": {
      "text/plain": [
       "[0.77, 0.79, 0.57, 0.57, 0.36, 0.38, 0.31, 0.62, 0.35, 0.36, 0.57]"
      ]
     },
     "execution_count": 45,
     "metadata": {},
     "output_type": "execute_result"
    }
   ],
   "source": [
    "ARI_all"
   ]
  },
  {
   "cell_type": "code",
   "execution_count": 46,
   "id": "86c57c14",
   "metadata": {
    "scrolled": false
   },
   "outputs": [
    {
     "data": {
      "image/png": "[encoded data removed]",
      "text/plain": [
       "<Figure size 576x396 with 1 Axes>"
      ]
     },
     "metadata": {},
     "output_type": "display_data"
    }
   ],
   "source": [
    "plt.plot(range(6, 17), ARI_all, marker=\"o\")\n",
    "plt.xlabel(\"Nombre de mois\")\n",
    "plt.ylabel(\"ARI score\")\n",
    "plt.title(\"Evolution de l'ARI score\")\n",
    "plt.show()"
   ]
  },
  {
   "cell_type": "raw",
   "id": "a0ab1f3e",
   "metadata": {},
   "source": [
    "On observe une chute significative du ARI score au bout de 2 mois d'incrémentation de nouvelles données. Mais une mise à jour tous les 2 mois seraient trop fréquent au regard des contraintes métier. Une proposition de mise à jour tous les 4 mois semble plus réaliste."
   ]
  }
 ],
 "metadata": {
  "kernelspec": {
   "display_name": "Python 3 (ipykernel)",
   "language": "python",
   "name": "python3"
  },
  "language_info": {
   "codemirror_mode": {
    "name": "ipython",
    "version": 3
   },
   "file_extension": ".py",
   "mimetype": "text/x-python",
   "name": "python",
   "nbconvert_exporter": "python",
   "pygments_lexer": "ipython3",
   "version": "3.10.4"
  }
 },
 "nbformat": 4,
 "nbformat_minor": 5
}
